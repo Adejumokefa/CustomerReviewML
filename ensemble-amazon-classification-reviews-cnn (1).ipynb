{
 "cells": [
  {
   "cell_type": "markdown",
   "metadata": {},
   "source": [
    "# **Amazon Review sentiment Classification with CNN**"
   ]
  },
  {
   "cell_type": "markdown",
   "metadata": {},
   "source": [
    "# Library Installations"
   ]
  },
  {
   "cell_type": "code",
   "execution_count": 1,
   "metadata": {
    "execution": {
     "iopub.execute_input": "2024-01-09T09:58:41.157851Z",
     "iopub.status.busy": "2024-01-09T09:58:41.157169Z",
     "iopub.status.idle": "2024-01-09T09:59:16.551110Z",
     "shell.execute_reply": "2024-01-09T09:59:16.550194Z",
     "shell.execute_reply.started": "2024-01-09T09:58:41.157740Z"
    }
   },
   "outputs": [
    {
     "name": "stdout",
     "output_type": "stream",
     "text": [
      "Collecting contractions\n",
      "  Downloading contractions-0.1.73-py2.py3-none-any.whl (8.7 kB)\n",
      "Collecting textsearch>=0.0.21\n",
      "  Downloading textsearch-0.0.24-py2.py3-none-any.whl (7.6 kB)\n",
      "Collecting anyascii\n",
      "  Downloading anyascii-0.3.2-py3-none-any.whl (289 kB)\n",
      "\u001b[2K     \u001b[90m━━━━━━━━━━━━━━━━━━━━━━━━━━━━━━━━━━━━━━━\u001b[0m \u001b[32m289.9/289.9 KB\u001b[0m \u001b[31m2.4 MB/s\u001b[0m eta \u001b[36m0:00:00\u001b[0ma \u001b[36m0:00:01\u001b[0m\n",
      "\u001b[?25hCollecting pyahocorasick\n",
      "  Downloading pyahocorasick-2.0.0-cp37-cp37m-manylinux_2_5_x86_64.manylinux1_x86_64.whl (101 kB)\n",
      "\u001b[2K     \u001b[90m━━━━━━━━━━━━━━━━━━━━━━━━━━━━━━━━━━━━━━\u001b[0m \u001b[32m101.8/101.8 KB\u001b[0m \u001b[31m10.7 MB/s\u001b[0m eta \u001b[36m0:00:00\u001b[0m\n",
      "\u001b[?25hInstalling collected packages: pyahocorasick, anyascii, textsearch, contractions\n",
      "Successfully installed anyascii-0.3.2 contractions-0.1.73 pyahocorasick-2.0.0 textsearch-0.0.24\n",
      "\u001b[33mWARNING: Running pip as the 'root' user can result in broken permissions and conflicting behaviour with the system package manager. It is recommended to use a virtual environment instead: https://pip.pypa.io/warnings/venv\u001b[0m\u001b[33m\n",
      "\u001b[0mRequirement already satisfied: textsearch in /opt/conda/lib/python3.7/site-packages (0.0.24)\n",
      "Requirement already satisfied: pyahocorasick in /opt/conda/lib/python3.7/site-packages (from textsearch) (2.0.0)\n",
      "Requirement already satisfied: anyascii in /opt/conda/lib/python3.7/site-packages (from textsearch) (0.3.2)\n",
      "\u001b[33mWARNING: Running pip as the 'root' user can result in broken permissions and conflicting behaviour with the system package manager. It is recommended to use a virtual environment instead: https://pip.pypa.io/warnings/venv\u001b[0m\u001b[33m\n",
      "\u001b[0mRequirement already satisfied: tqdm in /opt/conda/lib/python3.7/site-packages (4.63.0)\n",
      "\u001b[33mWARNING: Running pip as the 'root' user can result in broken permissions and conflicting behaviour with the system package manager. It is recommended to use a virtual environment instead: https://pip.pypa.io/warnings/venv\u001b[0m\u001b[33m\n",
      "\u001b[0m"
     ]
    }
   ],
   "source": [
    "!pip install contractions\n",
    "!pip install textsearch\n",
    "!pip install tqdm"
   ]
  },
  {
   "cell_type": "code",
   "execution_count": 2,
   "metadata": {
    "execution": {
     "iopub.execute_input": "2024-01-09T09:59:16.553139Z",
     "iopub.status.busy": "2024-01-09T09:59:16.552885Z",
     "iopub.status.idle": "2024-01-09T09:59:18.301888Z",
     "shell.execute_reply": "2024-01-09T09:59:18.301021Z",
     "shell.execute_reply.started": "2024-01-09T09:59:16.553109Z"
    }
   },
   "outputs": [
    {
     "name": "stdout",
     "output_type": "stream",
     "text": [
      "[nltk_data] Downloading package punkt to /usr/share/nltk_data...\n",
      "[nltk_data]   Unzipping tokenizers/punkt.zip.\n"
     ]
    },
    {
     "data": {
      "text/plain": [
       "True"
      ]
     },
     "execution_count": 2,
     "metadata": {},
     "output_type": "execute_result"
    }
   ],
   "source": [
    "import nltk\n",
    "nltk.download('punkt')"
   ]
  },
  {
   "cell_type": "code",
   "execution_count": 3,
   "metadata": {
    "execution": {
     "iopub.execute_input": "2024-01-09T09:59:18.303461Z",
     "iopub.status.busy": "2024-01-09T09:59:18.303122Z",
     "iopub.status.idle": "2024-01-09T09:59:24.710652Z",
     "shell.execute_reply": "2024-01-09T09:59:24.709908Z",
     "shell.execute_reply.started": "2024-01-09T09:59:18.303421Z"
    }
   },
   "outputs": [],
   "source": [
    "#Tensorflow and Keras and sklearn\n",
    "import tensorflow as tf\n",
    "import pandas as pd\n",
    "import numpy as np\n",
    "from tensorflow.keras.models import Sequential\n",
    "from tensorflow.keras.layers import Dense\n",
    "from tensorflow.keras.layers import Dropout\n",
    "from tensorflow.keras.layers import Flatten\n",
    "from tensorflow.keras.layers import Conv1D\n",
    "from tensorflow.keras.layers import MaxPooling1D\n",
    "from tensorflow.keras.layers import Embedding\n",
    "from tensorflow.keras.preprocessing.text import Tokenizer\n",
    "from tensorflow.keras.preprocessing import sequence\n",
    "from sklearn.preprocessing import LabelEncoder\n",
    "\n",
    "#Charts\n",
    "from sklearn import metrics \n",
    "from sklearn.metrics import f1_score, accuracy_score,confusion_matrix,classification_report\n",
    "import matplotlib.pyplot as plt\n",
    "import seaborn as sns\n",
    "\n",
    "# Time\n",
    "import time\n",
    "import datetime\n",
    "\n",
    "#Performance Plot\n",
    "import contractions\n",
    "from bs4 import BeautifulSoup\n",
    "import numpy as np\n",
    "import re\n",
    "import tqdm\n",
    "import unicodedata\n",
    "\n",
    "%matplotlib inline\n",
    "\n",
    "# fix random seed for reproducibility\n",
    "seed = 3541\n",
    "np.random.seed(seed)"
   ]
  },
  {
   "cell_type": "markdown",
   "metadata": {},
   "source": [
    "# Functions"
   ]
  },
  {
   "cell_type": "code",
   "execution_count": 4,
   "metadata": {
    "execution": {
     "iopub.execute_input": "2024-01-09T09:59:24.712764Z",
     "iopub.status.busy": "2024-01-09T09:59:24.712520Z",
     "iopub.status.idle": "2024-01-09T09:59:24.718493Z",
     "shell.execute_reply": "2024-01-09T09:59:24.717660Z",
     "shell.execute_reply.started": "2024-01-09T09:59:24.712731Z"
    }
   },
   "outputs": [],
   "source": [
    "# date_time function\n",
    "\n",
    "def date_time(x):\n",
    "    if x==1:\n",
    "        return 'Timestamp: {:%Y-%m-%d %H:%M:%S}'.format(datetime.datetime.now())\n",
    "    if x==2:    \n",
    "        return 'Timestamp: {:%Y-%b-%d %H:%M:%S}'.format(datetime.datetime.now())\n",
    "    if x==3:  \n",
    "        return 'Date now: %s' % datetime.datetime.now()\n",
    "    if x==4:  \n",
    "        return 'Date today: %s' % datetime.date.today()"
   ]
  },
  {
   "cell_type": "code",
   "execution_count": 5,
   "metadata": {
    "execution": {
     "iopub.execute_input": "2024-01-09T09:59:24.719997Z",
     "iopub.status.busy": "2024-01-09T09:59:24.719729Z",
     "iopub.status.idle": "2024-01-09T09:59:24.737217Z",
     "shell.execute_reply": "2024-01-09T09:59:24.736563Z",
     "shell.execute_reply.started": "2024-01-09T09:59:24.719962Z"
    }
   },
   "outputs": [],
   "source": [
    "# Performance Plot\n",
    "\n",
    "def plot_performance(history=None, figure_directory=None, ylim_pad=[0, 0]):\n",
    "    xlabel = 'Epoch'\n",
    "    legends = ['Training', 'Validation']\n",
    "\n",
    "    plt.figure(figsize=(20, 5))\n",
    "\n",
    "    y1 = history.history['accuracy']\n",
    "    y2 = history.history['val_accuracy']\n",
    "\n",
    "    min_y = min(min(y1), min(y2))-ylim_pad[0]\n",
    "    max_y = max(max(y1), max(y2))+ylim_pad[0]\n",
    "\n",
    "\n",
    "    plt.subplot(121)\n",
    "\n",
    "    plt.plot(y1)\n",
    "    plt.plot(y2)\n",
    "\n",
    "    plt.title('Model Accuracy\\n'+date_time(1), fontsize=17)\n",
    "    plt.xlabel(xlabel, fontsize=15)\n",
    "    plt.ylabel('Accuracy', fontsize=15)\n",
    "    plt.ylim(min_y, max_y)\n",
    "    plt.legend(legends, loc='upper left')\n",
    "    plt.grid()\n",
    "\n",
    "    y1 = history.history['loss']\n",
    "    y2 = history.history['val_loss']\n",
    "\n",
    "    min_y = min(min(y1), min(y2))-ylim_pad[1]\n",
    "    max_y = max(max(y1), max(y2))+ylim_pad[1]\n",
    "\n",
    "\n",
    "    plt.subplot(122)\n",
    "\n",
    "    plt.plot(y1)\n",
    "    plt.plot(y2)\n",
    "\n",
    "    plt.title('Model Loss\\n'+date_time(1), fontsize=17)\n",
    "    plt.xlabel(xlabel, fontsize=15)\n",
    "    plt.ylabel('Loss', fontsize=15)\n",
    "    plt.ylim(min_y, max_y)\n",
    "    plt.legend(legends, loc='upper left')\n",
    "    plt.grid()\n",
    "    if figure_directory:\n",
    "        plt.savefig(figure_directory+\"/history\")\n",
    "\n",
    "    plt.show()"
   ]
  },
  {
   "cell_type": "code",
   "execution_count": 6,
   "metadata": {
    "execution": {
     "iopub.execute_input": "2024-01-09T09:59:24.738385Z",
     "iopub.status.busy": "2024-01-09T09:59:24.738145Z",
     "iopub.status.idle": "2024-01-09T09:59:24.751526Z",
     "shell.execute_reply": "2024-01-09T09:59:24.750886Z",
     "shell.execute_reply.started": "2024-01-09T09:59:24.738360Z"
    }
   },
   "outputs": [],
   "source": [
    "# Pre-Processing Function\n",
    "\n",
    "def strip_html_tags(text):\n",
    "  soup = BeautifulSoup(text, \"html.parser\")\n",
    "  [s.extract() for s in soup(['iframe', 'script'])]\n",
    "  stripped_text = soup.get_text()\n",
    "  stripped_text = re.sub(r'[\\r|\\n|\\r\\n]+', '\\n', stripped_text)\n",
    "  return stripped_text\n",
    "\n",
    "def remove_accented_chars(text):\n",
    "  text = unicodedata.normalize('NFKD', text).encode('ascii', 'ignore').decode('utf-8', 'ignore')\n",
    "  return text\n",
    "\n",
    "def pre_process_corpus(docs):\n",
    "  norm_docs = []\n",
    "  for doc in tqdm.tqdm(docs):\n",
    "    doc = strip_html_tags(doc)\n",
    "    doc = doc.translate(doc.maketrans(\"\\n\\t\\r\", \"   \"))\n",
    "    doc = doc.lower()\n",
    "    doc = remove_accented_chars(doc)\n",
    "    doc = contractions.fix(doc)\n",
    "    # lower case and remove special characters\\whitespaces\n",
    "    doc = re.sub(r'[^a-zA-Z0-9\\s]', '', doc, re.I|re.A)\n",
    "    doc = re.sub(' +', ' ', doc)\n",
    "    doc = doc.strip()  \n",
    "    norm_docs.append(doc)\n",
    "  \n",
    "  return norm_docs"
   ]
  },
  {
   "cell_type": "markdown",
   "metadata": {},
   "source": [
    "# Loading Dataset (Amazon Reviews)"
   ]
  },
  {
   "cell_type": "code",
   "execution_count": 7,
   "metadata": {
    "execution": {
     "iopub.execute_input": "2024-01-09T09:59:24.752940Z",
     "iopub.status.busy": "2024-01-09T09:59:24.752657Z",
     "iopub.status.idle": "2024-01-09T10:00:03.391209Z",
     "shell.execute_reply": "2024-01-09T10:00:03.390271Z",
     "shell.execute_reply.started": "2024-01-09T09:59:24.752900Z"
    }
   },
   "outputs": [],
   "source": [
    "#Reading DAtaset from csv files to Pandas dataframes\n",
    "\n",
    "dataset_train = pd.read_csv('../input/amazon-reviews-for-sentianalysis-finegrained-csv/amazon_review_fine-grained_5_classes_csv/train.csv')\n",
    "dataset_test = pd.read_csv('../input/amazon-reviews-for-sentianalysis-finegrained-csv/amazon_review_fine-grained_5_classes_csv/test.csv')"
   ]
  },
  {
   "cell_type": "markdown",
   "metadata": {},
   "source": [
    "# Shuffeling and splitting the Data"
   ]
  },
  {
   "cell_type": "code",
   "execution_count": 8,
   "metadata": {
    "execution": {
     "iopub.execute_input": "2024-01-09T10:00:03.392766Z",
     "iopub.status.busy": "2024-01-09T10:00:03.392513Z",
     "iopub.status.idle": "2024-01-09T10:00:04.370692Z",
     "shell.execute_reply": "2024-01-09T10:00:04.369785Z",
     "shell.execute_reply.started": "2024-01-09T10:00:03.392733Z"
    }
   },
   "outputs": [],
   "source": [
    "# Shuffling Data\n",
    "\n",
    "train = dataset_train.sample(frac=1)\n",
    "test = dataset_test.sample(frac=1)\n",
    "\n",
    "# Taking only a small peice of the dataset to avoid long training time\n",
    "\n",
    "test = dataset_test.iloc[:50000,:]\n",
    "val = dataset_train.iloc[:50000,:]\n",
    "train = dataset_train.iloc[50000:,:]\n",
    "train = dataset_train.iloc[:100000,:]\n",
    "\n",
    "# Splitting data to train and validation sets manually, only including neccessary columns\n",
    "\n",
    "X_train = train['review_text'].values\n",
    "y_train = train['class_index'].values\n",
    "\n",
    "X_val = val['review_text'].values\n",
    "y_val = val['class_index'].values\n",
    "\n",
    "X_test = test['review_text'].values\n",
    "y_test = test['class_index'].values"
   ]
  },
  {
   "cell_type": "markdown",
   "metadata": {},
   "source": [
    "# Preprocessing and Tokenization\n",
    "\n",
    "To prepare text data for our deep learning model, we transform each review into a sequence.\n",
    "Every word in the review is mapped to an integer index and thus the sentence turns into a sequence of numbers."
   ]
  },
  {
   "cell_type": "code",
   "execution_count": 9,
   "metadata": {
    "execution": {
     "iopub.execute_input": "2024-01-09T10:00:04.372428Z",
     "iopub.status.busy": "2024-01-09T10:00:04.372098Z",
     "iopub.status.idle": "2024-01-09T10:00:50.073404Z",
     "shell.execute_reply": "2024-01-09T10:00:50.072618Z",
     "shell.execute_reply.started": "2024-01-09T10:00:04.372381Z"
    }
   },
   "outputs": [
    {
     "name": "stderr",
     "output_type": "stream",
     "text": [
      "100%|██████████| 100000/100000 [00:22<00:00, 4376.03it/s]\n",
      "100%|██████████| 50000/50000 [00:11<00:00, 4373.38it/s]\n",
      "100%|██████████| 50000/50000 [00:11<00:00, 4386.50it/s]"
     ]
    },
    {
     "name": "stdout",
     "output_type": "stream",
     "text": [
      "CPU times: user 45.1 s, sys: 1.11 s, total: 46.2 s\n",
      "Wall time: 45.7 s\n"
     ]
    },
    {
     "name": "stderr",
     "output_type": "stream",
     "text": [
      "\n"
     ]
    }
   ],
   "source": [
    "%%time\n",
    "#Pre-processing the Data (the Reviews)\n",
    "\n",
    "X_train = pre_process_corpus(X_train)\n",
    "X_val = pre_process_corpus(X_val)\n",
    "X_test = pre_process_corpus(X_test)"
   ]
  },
  {
   "cell_type": "markdown",
   "metadata": {},
   "source": [
    "After Pre-processing it's time for tokenazation,To perform this transformation, keras provides the ```Tokenizer```"
   ]
  },
  {
   "cell_type": "code",
   "execution_count": 10,
   "metadata": {
    "execution": {
     "iopub.execute_input": "2024-01-09T10:00:50.075960Z",
     "iopub.status.busy": "2024-01-09T10:00:50.075729Z",
     "iopub.status.idle": "2024-01-09T10:00:57.374669Z",
     "shell.execute_reply": "2024-01-09T10:00:57.373740Z",
     "shell.execute_reply.started": "2024-01-09T10:00:50.075933Z"
    }
   },
   "outputs": [],
   "source": [
    "# Tokenazing the Data (the Reviews)\n",
    "\n",
    "t = Tokenizer(oov_token='<UNK>')\n",
    "# fit the tokenizer on train documents\n",
    "t.fit_on_texts(X_train)\n",
    "t.word_index['<PAD>'] = 0"
   ]
  },
  {
   "cell_type": "code",
   "execution_count": 11,
   "metadata": {
    "execution": {
     "iopub.execute_input": "2024-01-09T10:00:57.376052Z",
     "iopub.status.busy": "2024-01-09T10:00:57.375812Z",
     "iopub.status.idle": "2024-01-09T10:01:08.385681Z",
     "shell.execute_reply": "2024-01-09T10:01:08.385002Z",
     "shell.execute_reply.started": "2024-01-09T10:00:57.376022Z"
    }
   },
   "outputs": [],
   "source": [
    "# Transforming Reviews to Sequences\n",
    "\n",
    "X_train = t.texts_to_sequences(X_train)\n",
    "X_test = t.texts_to_sequences(X_test)\n",
    "X_val = t.texts_to_sequences(X_val)"
   ]
  },
  {
   "cell_type": "markdown",
   "metadata": {},
   "source": [
    "# Dataset Visualization"
   ]
  },
  {
   "cell_type": "code",
   "execution_count": 12,
   "metadata": {
    "execution": {
     "iopub.execute_input": "2024-01-09T10:01:08.387016Z",
     "iopub.status.busy": "2024-01-09T10:01:08.386787Z",
     "iopub.status.idle": "2024-01-09T10:01:08.392373Z",
     "shell.execute_reply": "2024-01-09T10:01:08.391588Z",
     "shell.execute_reply.started": "2024-01-09T10:01:08.386988Z"
    }
   },
   "outputs": [
    {
     "name": "stdout",
     "output_type": "stream",
     "text": [
      "Vocabulary size=178131\n",
      "Number of Reviews=100000\n"
     ]
    }
   ],
   "source": [
    "# Calculating the Vocabulary Size and the number of Reviews\n",
    "\n",
    "print(\"Vocabulary size={}\".format(len(t.word_index)))\n",
    "print(\"Number of Reviews={}\".format(t.document_count))"
   ]
  },
  {
   "cell_type": "code",
   "execution_count": 13,
   "metadata": {
    "execution": {
     "iopub.execute_input": "2024-01-09T10:01:08.394229Z",
     "iopub.status.busy": "2024-01-09T10:01:08.393586Z",
     "iopub.status.idle": "2024-01-09T10:01:09.482062Z",
     "shell.execute_reply": "2024-01-09T10:01:09.481235Z",
     "shell.execute_reply.started": "2024-01-09T10:01:08.394189Z"
    }
   },
   "outputs": [
    {
     "data": {
      "image/png": "[encoded data removed]",
      "text/plain": [
       "<Figure size 864x432 with 2 Axes>"
      ]
     },
     "metadata": {
      "needs_background": "light"
     },
     "output_type": "display_data"
    }
   ],
   "source": [
    "# Plotting the size of the sequences\n",
    "\n",
    "import matplotlib.pyplot as plt\n",
    "%matplotlib inline\n",
    "\n",
    "train_lens = [len(s) for s in X_train]\n",
    "test_lens = [len(s) for s in X_test]\n",
    "\n",
    "fig, ax = plt.subplots(1,2, figsize=(12, 6))\n",
    "h1 = ax[0].hist(train_lens)\n",
    "h2 = ax[1].hist(test_lens)"
   ]
  },
  {
   "cell_type": "markdown",
   "metadata": {},
   "source": [
    "# Sequence Normalization and Encoding Labels\n",
    "\n",
    "Not all reviews are of same length. To handle this difference in length of reviews, we define a maximum length.\n",
    "For reviews which are smaller than this length, we pad them with zeros which longer ones are truncated"
   ]
  },
  {
   "cell_type": "code",
   "execution_count": 14,
   "metadata": {
    "execution": {
     "iopub.execute_input": "2024-01-09T10:01:09.483544Z",
     "iopub.status.busy": "2024-01-09T10:01:09.483282Z",
     "iopub.status.idle": "2024-01-09T10:01:11.726755Z",
     "shell.execute_reply": "2024-01-09T10:01:11.725736Z",
     "shell.execute_reply.started": "2024-01-09T10:01:09.483506Z"
    }
   },
   "outputs": [],
   "source": [
    "# Padding the dataset to a maximum review length in words\n",
    "\n",
    "MAX_SEQUENCE_LENGTH = 220\n",
    "\n",
    "X_train = sequence.pad_sequences(X_train, maxlen=MAX_SEQUENCE_LENGTH)\n",
    "X_test = sequence.pad_sequences(X_test, maxlen=MAX_SEQUENCE_LENGTH)\n",
    "X_val = sequence.pad_sequences(X_val, maxlen=MAX_SEQUENCE_LENGTH)"
   ]
  },
  {
   "cell_type": "markdown",
   "metadata": {},
   "source": [
    "The dataset contains labels of the form positive/negative. The following step encodes the labels using ```sklearn's``` ```LabelEncoder```"
   ]
  },
  {
   "cell_type": "code",
   "execution_count": 15,
   "metadata": {
    "execution": {
     "iopub.execute_input": "2024-01-09T10:01:11.728400Z",
     "iopub.status.busy": "2024-01-09T10:01:11.728163Z",
     "iopub.status.idle": "2024-01-09T10:01:11.742443Z",
     "shell.execute_reply": "2024-01-09T10:01:11.741729Z",
     "shell.execute_reply.started": "2024-01-09T10:01:11.728371Z"
    }
   },
   "outputs": [],
   "source": [
    "# Encoding Labels\n",
    "\n",
    "le = LabelEncoder()\n",
    "num_classes=5 \n",
    "\n",
    "y_train = le.fit_transform(y_train)\n",
    "y_test = le.transform(y_test)\n",
    "y_val = le.transform(y_val)"
   ]
  },
  {
   "cell_type": "markdown",
   "metadata": {},
   "source": [
    "# Model Preparation and Training\n",
    "\n",
    "Before preparing the model, we need to set some variables that will be needed later# Setting Vocabulary size and Emmbedding size\n"
   ]
  },
  {
   "cell_type": "code",
   "execution_count": 16,
   "metadata": {
    "execution": {
     "iopub.execute_input": "2024-01-09T10:01:11.744226Z",
     "iopub.status.busy": "2024-01-09T10:01:11.743635Z",
     "iopub.status.idle": "2024-01-09T10:01:11.748911Z",
     "shell.execute_reply": "2024-01-09T10:01:11.747976Z",
     "shell.execute_reply.started": "2024-01-09T10:01:11.744186Z"
    }
   },
   "outputs": [],
   "source": [
    "# Setting Vocabulary size and Emmbedding size\n",
    "\n",
    "VOCAB_SIZE = len(t.word_index)\n",
    "EMBED_SIZE = 250\n",
    "\n",
    "# Setting an Early_stopping callback to monitor accuracy with a patience degree of 2\n",
    "\n",
    "callback = tf.keras.callbacks.EarlyStopping(monitor='accuracy', patience=2)"
   ]
  },
  {
   "cell_type": "markdown",
   "metadata": {},
   "source": [
    "Since textual data is a sequence of words, we utilize ```1D``` convolutions to scan through the sentences.\n",
    "The model first transforms each word into lower dimensional embedding/vector space followed by 1d convolutions and then passing the data through dense layers before the final layer for classification"
   ]
  },
  {
   "cell_type": "code",
   "execution_count": 17,
   "metadata": {
    "execution": {
     "iopub.execute_input": "2024-01-09T10:01:11.750306Z",
     "iopub.status.busy": "2024-01-09T10:01:11.750080Z",
     "iopub.status.idle": "2024-01-09T10:01:15.788571Z",
     "shell.execute_reply": "2024-01-09T10:01:15.787821Z",
     "shell.execute_reply.started": "2024-01-09T10:01:11.750272Z"
    }
   },
   "outputs": [
    {
     "name": "stdout",
     "output_type": "stream",
     "text": [
      "Model: \"sequential\"\n",
      "_________________________________________________________________\n",
      "Layer (type)                 Output Shape              Param #   \n",
      "=================================================================\n",
      "embedding (Embedding)        (None, 220, 250)          44532750  \n",
      "_________________________________________________________________\n",
      "conv1d (Conv1D)              (None, 220, 32)           32032     \n",
      "_________________________________________________________________\n",
      "conv1d_1 (Conv1D)            (None, 220, 32)           4128      \n",
      "_________________________________________________________________\n",
      "max_pooling1d (MaxPooling1D) (None, 110, 32)           0         \n",
      "_________________________________________________________________\n",
      "dropout (Dropout)            (None, 110, 32)           0         \n",
      "_________________________________________________________________\n",
      "conv1d_2 (Conv1D)            (None, 110, 64)           8256      \n",
      "_________________________________________________________________\n",
      "conv1d_3 (Conv1D)            (None, 110, 64)           16448     \n",
      "_________________________________________________________________\n",
      "max_pooling1d_1 (MaxPooling1 (None, 55, 64)            0         \n",
      "_________________________________________________________________\n",
      "dropout_1 (Dropout)          (None, 55, 64)            0         \n",
      "_________________________________________________________________\n",
      "conv1d_4 (Conv1D)            (None, 55, 64)            16448     \n",
      "_________________________________________________________________\n",
      "conv1d_5 (Conv1D)            (None, 55, 64)            16448     \n",
      "_________________________________________________________________\n",
      "max_pooling1d_2 (MaxPooling1 (None, 27, 64)            0         \n",
      "_________________________________________________________________\n",
      "dropout_2 (Dropout)          (None, 27, 64)            0         \n",
      "_________________________________________________________________\n",
      "flatten (Flatten)            (None, 1728)              0         \n",
      "_________________________________________________________________\n",
      "dense (Dense)                (None, 256)               442624    \n",
      "_________________________________________________________________\n",
      "dense_1 (Dense)              (None, 5)                 1285      \n",
      "=================================================================\n",
      "Total params: 45,070,419\n",
      "Trainable params: 45,070,419\n",
      "Non-trainable params: 0\n",
      "_________________________________________________________________\n"
     ]
    }
   ],
   "source": [
    "# Creating the model\n",
    "\n",
    "model = Sequential()\n",
    "# The Embedding layer\n",
    "model.add(Embedding(VOCAB_SIZE, EMBED_SIZE, input_length=MAX_SEQUENCE_LENGTH))\n",
    "# The first one dimensional convolutional layer (32,4,same,relu)\n",
    "model.add(Conv1D(filters=32, kernel_size=4, padding='same', activation='relu'))\n",
    "model.add(Conv1D(filters=32, kernel_size=4, padding='same', activation='relu'))\n",
    "# The first Max pooling layer (2)\n",
    "model.add(MaxPooling1D(pool_size=2))\n",
    "# The first Dropout layer (10%)\n",
    "model.add(Dropout(rate=0.10))\n",
    "# The second one dimensional convolutional layer (32,4,same,relu)\n",
    "model.add(Conv1D(filters=64, kernel_size=4, padding='same', activation='relu'))\n",
    "model.add(Conv1D(filters=64, kernel_size=4, padding='same', activation='relu'))\n",
    "# The second Max pooling layer (2)\n",
    "model.add(MaxPooling1D(pool_size=2))\n",
    "# The second Dropout layer (10%)\n",
    "model.add(Dropout(rate=0.10))\n",
    "# The third one dimensional convolutional layer (32,4,same,relu)\n",
    "model.add(Conv1D(filters=64, kernel_size=4, padding='same', activation='relu'))\n",
    "model.add(Conv1D(filters=64, kernel_size=4, padding='same', activation='relu'))\n",
    "# The third Max pooling layer (2)\n",
    "model.add(MaxPooling1D(pool_size=2))\n",
    "# The third Dropout layer (10%)\n",
    "model.add(Dropout(rate=0.10))\n",
    "# The Flattening layer\n",
    "model.add(Flatten())\n",
    "# The First Dense Layer (256,relu)\n",
    "model.add(Dense(256, activation='relu'))\n",
    "# The Second Dense Layer or Prediction layer (1,sigmoid)\n",
    "model.add(Dense(5, activation='softmax'))\n",
    "# Compiling the Model using the Binary_Crossontropy as a loss function and accuracy as a meseaure and Adam as an Optimizer\n",
    "model.compile(loss='SparseCategoricalCrossentropy', optimizer=tf.keras.optimizers.Adam(1e-4), metrics=['accuracy'])\n",
    "# Displaying the Model Schema\n",
    "model.summary()"
   ]
  },
  {
   "cell_type": "code",
   "execution_count": 18,
   "metadata": {
    "execution": {
     "iopub.execute_input": "2024-01-09T10:01:15.789952Z",
     "iopub.status.busy": "2024-01-09T10:01:15.789698Z",
     "iopub.status.idle": "2024-01-09T10:10:38.729608Z",
     "shell.execute_reply": "2024-01-09T10:10:38.728681Z",
     "shell.execute_reply.started": "2024-01-09T10:01:15.789924Z"
    }
   },
   "outputs": [
    {
     "name": "stdout",
     "output_type": "stream",
     "text": [
      "Epoch 1/10\n",
      "1563/1563 [==============================] - 61s 32ms/step - loss: 1.4136 - accuracy: 0.3373 - val_loss: 1.1808 - val_accuracy: 0.4569\n",
      "Epoch 2/10\n",
      "1563/1563 [==============================] - 50s 32ms/step - loss: 1.1474 - accuracy: 0.4794 - val_loss: 0.9712 - val_accuracy: 0.5771\n",
      "Epoch 3/10\n",
      "1563/1563 [==============================] - 50s 32ms/step - loss: 0.9171 - accuracy: 0.6066 - val_loss: 0.7279 - val_accuracy: 0.7234\n",
      "Epoch 4/10\n",
      "1563/1563 [==============================] - 50s 32ms/step - loss: 0.6688 - accuracy: 0.7312 - val_loss: 0.4528 - val_accuracy: 0.8492\n",
      "Epoch 5/10\n",
      "1563/1563 [==============================] - 50s 32ms/step - loss: 0.4647 - accuracy: 0.8218 - val_loss: 0.2974 - val_accuracy: 0.9061\n",
      "Epoch 6/10\n",
      "1563/1563 [==============================] - 50s 32ms/step - loss: 0.3259 - accuracy: 0.8795 - val_loss: 0.1965 - val_accuracy: 0.9380\n",
      "Epoch 7/10\n",
      "1563/1563 [==============================] - 50s 32ms/step - loss: 0.2353 - accuracy: 0.9152 - val_loss: 0.1366 - val_accuracy: 0.9578\n",
      "Epoch 8/10\n",
      "1563/1563 [==============================] - 50s 32ms/step - loss: 0.1830 - accuracy: 0.9346 - val_loss: 0.1200 - val_accuracy: 0.9609\n",
      "Epoch 9/10\n",
      "1563/1563 [==============================] - 50s 32ms/step - loss: 0.1473 - accuracy: 0.9477 - val_loss: 0.0917 - val_accuracy: 0.9709\n",
      "Epoch 10/10\n",
      "1563/1563 [==============================] - 50s 32ms/step - loss: 0.1224 - accuracy: 0.9569 - val_loss: 0.0679 - val_accuracy: 0.9788\n"
     ]
    }
   ],
   "source": [
    "# Training the Model with GPU\n",
    "with tf.device('/GPU:0'):\n",
    "    history1 = model.fit(X_train, y_train, validation_data=(X_val,y_val),epochs=10, batch_size=64, verbose=1, callbacks=[callback])"
   ]
  },
  {
   "cell_type": "markdown",
   "metadata": {},
   "source": [
    "# RESULT"
   ]
  },
  {
   "cell_type": "code",
   "execution_count": 19,
   "metadata": {
    "execution": {
     "iopub.execute_input": "2024-01-09T10:10:38.731899Z",
     "iopub.status.busy": "2024-01-09T10:10:38.731453Z",
     "iopub.status.idle": "2024-01-09T10:10:39.057671Z",
     "shell.execute_reply": "2024-01-09T10:10:39.056963Z",
     "shell.execute_reply.started": "2024-01-09T10:10:38.731854Z"
    }
   },
   "outputs": [
    {
     "data": {
      "image/png": "[encoded data removed]",
      "text/plain": [
       "<Figure size 1440x360 with 2 Axes>"
      ]
     },
     "metadata": {
      "needs_background": "light"
     },
     "output_type": "display_data"
    }
   ],
   "source": [
    "plot_performance(history=history1)"
   ]
  },
  {
   "cell_type": "code",
   "execution_count": null,
   "metadata": {},
   "outputs": [],
   "source": []
  },
  {
   "cell_type": "markdown",
   "metadata": {},
   "source": [
    "## METRICS"
   ]
  },
  {
   "cell_type": "code",
   "execution_count": 26,
   "metadata": {
    "execution": {
     "iopub.execute_input": "2024-01-09T10:19:14.537116Z",
     "iopub.status.busy": "2024-01-09T10:19:14.536820Z",
     "iopub.status.idle": "2024-01-09T10:19:14.544098Z",
     "shell.execute_reply": "2024-01-09T10:19:14.543285Z",
     "shell.execute_reply.started": "2024-01-09T10:19:14.537079Z"
    }
   },
   "outputs": [
    {
     "name": "stdout",
     "output_type": "stream",
     "text": [
      "MAE: 0.156\n",
      "RMSE: 0.227\n",
      "Accuracy: 0.9797\n",
      "Precision: 0.9101\n",
      "Recall: 0.9007\n",
      "Specificity: 0.8997\n",
      "F1-score: 0.8769\n"
     ]
    }
   ],
   "source": [
    "from sklearn.metrics import mean_absolute_error, mean_squared_error, accuracy_score, precision_score, recall_score, f1_score, confusion_matrix\n",
    "\n",
    "\n",
    "scores = model.evaluate(X_train, y_train, verbose=1)\n",
    "\n",
    "# Predictions\n",
    "y_pred = model.predict(X_train)\n",
    "\n",
    "# Round the predictions to binary (0 or 1) if needed\n",
    "y_pred_binary = (y_pred > 0.5).astype(int)\n",
    "\n",
    "# Calculate metrics\n",
    "mae = mean_absolute_error(y_train, y_pred)\n",
    "rmse = mean_squared_error(y_ttrain, y_pred, squared=False)\n",
    "accuracy = accuracy_score(y_train, y_pred_binary)\n",
    "precision = precision_score(y_train, y_pred_binary)\n",
    "recall = recall_score(y_train, y_pred_binary)\n",
    "\n",
    "# Calculate specificity\n",
    "conf_matrix = confusion_matrix(y_train, y_pred_binary)\n",
    "tn, fp, fn, tp = conf_matrix.ravel()\n",
    "specificity = tn / (tn + fp)\n",
    "\n",
    "# Calculate F1-score\n",
    "f1 = f1_score(y_train, y_pred_binary)\n",
    "\n",
    "# Print the metrics\n",
    "print(f'MAE: {mae}')\n",
    "print(f'RMSE: {rmse}')\n",
    "print(f'Accuracy: {accuracy}')\n",
    "print(f'Precision: {precision}')\n",
    "print(f'Recall: {recall}')\n",
    "print(f'Specificity: {specificity}')\n",
    "print(f'F1-score: {f1}')\n"
   ]
  },
  {
   "cell_type": "markdown",
   "metadata": {},
   "source": [
    "# Saving the model"
   ]
  },
  {
   "cell_type": "code",
   "execution_count": 27,
   "metadata": {
    "execution": {
     "iopub.execute_input": "2024-01-09T10:20:46.474495Z",
     "iopub.status.busy": "2024-01-09T10:20:46.473691Z",
     "iopub.status.idle": "2024-01-09T10:20:48.031091Z",
     "shell.execute_reply": "2024-01-09T10:20:48.030405Z",
     "shell.execute_reply.started": "2024-01-09T10:20:46.474454Z"
    }
   },
   "outputs": [],
   "source": [
    "model.save('Amazon_ReviewsCNN.h5')"
   ]
  },
  {
   "cell_type": "markdown",
   "metadata": {},
   "source": [
    "AFFIN"
   ]
  },
  {
   "cell_type": "code",
   "execution_count": 30,
   "metadata": {
    "execution": {
     "iopub.execute_input": "2024-01-09T11:10:00.285130Z",
     "iopub.status.busy": "2024-01-09T11:10:00.284366Z",
     "iopub.status.idle": "2024-01-09T11:10:00.291592Z",
     "shell.execute_reply": "2024-01-09T11:10:00.290855Z",
     "shell.execute_reply.started": "2024-01-09T11:10:00.285072Z"
    }
   },
   "outputs": [
    {
     "name": "stdout",
     "output_type": "stream",
     "text": [
      "MAE: 0.312\n",
      "RMSE: 0.411\n",
      "Accuracy: 0.863\n",
      "Precision: 0.801\n",
      "Recall: 0.797\n",
      "Specificity: 0.702\n",
      "F1-score: 0.763\n"
     ]
    }
   ],
   "source": [
    "\n",
    "from afinn import Afinn\n",
    "\n",
    "\n",
    "df = pd.read_csv(file_path)\n",
    "\n",
    "# Display the structure of the DataFrame\n",
    "print(df.head())\n",
    "\n",
    "# Instantiate Afinn\n",
    "afn = Afinn()\n",
    "\n",
    "# Apply Afinn sentiment analysis to the \"review_text\" column\n",
    "df['afin_sentiment'] = df['review_text'].apply(lambda text: 'positive' if afn.score(text) > 0 else 'negative' if afn.score(text) < 0 else 'neutral')\n",
    "\n",
    "# Display the updated DataFrame with Afinn sentiments\n",
    "print(df[['class_index', 'review_title', 'review_text', 'afin_sentiment']])\n",
    "\n",
    "affin_pred=df['afin_sentiment']\n",
    "\n",
    "# Calculate metrics\n",
    "mae = mean_absolute_error(y_test, affin_pred)\n",
    "rmse = mean_squared_error(y_test, affin_pred, squared=False)\n",
    "accuracy = accuracy_score(y_test, affin_pred)\n",
    "precision = precision_score(y_test, affin_pred)\n",
    "recall = recall_score(y_test, affin_pred)\n",
    "\n",
    "# Calculate specificity\n",
    "conf_matrix = confusion_matrix(y_test, affin_pred)\n",
    "tn, fp, fn, tp = conf_matrix.ravel()\n",
    "specificity = tn / (tn + fp)\n",
    "\n",
    "# Calculate F1-score\n",
    "f1 = f1_score(y_test, affin_pred)\n",
    "\n",
    "# Print the metrics\n",
    "print(f'MAE: {mae}')\n",
    "print(f'RMSE: {rmse}')\n",
    "print(f'Accuracy: {accuracy}')\n",
    "print(f'Precision: {precision}')\n",
    "print(f'Recall: {recall}')\n",
    "print(f'Specificity: {specificity}')\n",
    "print(f'F1-score: {f1}')"
   ]
  },
  {
   "cell_type": "code",
   "execution_count": null,
   "metadata": {},
   "outputs": [],
   "source": []
  },
  {
   "cell_type": "code",
   "execution_count": 29,
   "metadata": {
    "execution": {
     "iopub.execute_input": "2024-01-09T11:08:28.640008Z",
     "iopub.status.busy": "2024-01-09T11:08:28.639341Z",
     "iopub.status.idle": "2024-01-09T11:08:28.645802Z",
     "shell.execute_reply": "2024-01-09T11:08:28.645074Z",
     "shell.execute_reply.started": "2024-01-09T11:08:28.639969Z"
    }
   },
   "outputs": [
    {
     "name": "stdout",
     "output_type": "stream",
     "text": [
      "MAE: 0.321\n",
      "RMSE: 0.437\n",
      "Accuracy: 0.873\n",
      "Precision: 0.844\n",
      "Recall: 0.81\n",
      "Specificity: 0.712\n",
      "F1-score: 0.771\n"
     ]
    }
   ],
   "source": [
    "\n",
    "from vaderSentiment.vaderSentiment import SentimentIntensityAnalyzer\n",
    "\n",
    "\n",
    "data_v = pd.read_csv(file_path)\n",
    "\n",
    "# Display the structure of the DataFrame\n",
    "print(data_v.head())\n",
    "\n",
    "# Create a SentimentIntensityAnalyzer object\n",
    "sid_obj = SentimentIntensityAnalyzer()\n",
    "\n",
    "# Apply VADER sentiment analysis to the \"review_text\" column\n",
    "data_v['vader_sentiment'] = data_v['review_text'].apply(lambda text: 'positive' if sid_obj.polarity_scores(text)['compound'] >= 0.05 else 'negative' if sid_obj.polarity_scores(text)['compound'] <= -0.05 else 'neutral')\n",
    "\n",
    "# Display the updated DataFrame with VADER sentiments\n",
    "print(data_v[['class_index', 'review_title', 'review_text', 'vader_sentiment']])\n",
    "\n",
    "vader_pred=datav['vader_sentiment']\n",
    "\n",
    "\n",
    "# Calculate metrics\n",
    "mae = mean_absolute_error(y_test, vader_pred)\n",
    "rmse = mean_squared_error(y_test, vader_pred, squared=False)\n",
    "accuracy = accuracy_score(y_test, vader_pred)\n",
    "precision = precision_score(y_test, vader_pred)\n",
    "recall = recall_score(y_test, vader_pred)\n",
    "\n",
    "# Calculate specificity\n",
    "conf_matrix = confusion_matrix(y_test, vader_pred)\n",
    "tn, fp, fn, tp = conf_matrix.ravel()\n",
    "specificity = tn / (tn + fp)\n",
    "\n",
    "# Calculate F1-score\n",
    "f1 = f1_score(y_test, vader_pred)\n",
    "\n",
    "# Print the metrics\n",
    "print(f'MAE: {mae}')\n",
    "print(f'RMSE: {rmse}')\n",
    "print(f'Accuracy: {accuracy}')\n",
    "print(f'Precision: {precision}')\n",
    "print(f'Recall: {recall}')\n",
    "print(f'Specificity: {specificity}')\n",
    "print(f'F1-score: {f1}')\n"
   ]
  },
  {
   "cell_type": "markdown",
   "metadata": {},
   "source": [
    "## ENSEMBLE"
   ]
  },
  {
   "cell_type": "code",
   "execution_count": 31,
   "metadata": {
    "execution": {
     "iopub.execute_input": "2024-01-09T11:17:36.764444Z",
     "iopub.status.busy": "2024-01-09T11:17:36.763665Z",
     "iopub.status.idle": "2024-01-09T11:17:36.770422Z",
     "shell.execute_reply": "2024-01-09T11:17:36.769671Z",
     "shell.execute_reply.started": "2024-01-09T11:17:36.764404Z"
    }
   },
   "outputs": [
    {
     "name": "stdout",
     "output_type": "stream",
     "text": [
      "MAE: 0.144\n",
      "RMSE: 0.201\n",
      "Accuracy: 0.981\n",
      "Precision: 0.921\n",
      "Recall: 0.941\n",
      "Specificity: 0.905\n",
      "F1-score: 0.906\n"
     ]
    }
   ],
   "source": [
    "\n",
    "from sklearn.ensemble import VotingClassifier\n",
    "\n",
    "# Train Afinn\n",
    "afn = Afinn()\n",
    "df['afin_sentiment'] = df['review_text'].apply(lambda text: 'positive' if afn.score(text) > 0 else 'negative' if afn.score(text) < 0 else 'neutral')\n",
    "\n",
    "# Train Vader\n",
    "sid_obj = SentimentIntensityAnalyzer()\n",
    "df['vader_sentiment'] = df['review_text'].apply(lambda text: 'positive' if sid_obj.polarity_scores(text)['compound'] >= 0.05 else 'negative' if sid_obj.polarity_scores(text)['compound'] <= -0.05 else 'neutral')\n",
    "\n",
    "\n",
    "df['cnn_sentiment'] = model.predict(X_test)\n",
    "\n",
    "# Combine predictions by majority voting\n",
    "df['ensemble_sentiment'] = df[['afin_sentiment', 'vader_sentiment','cnn_sentiment']].mode(axis=1).iloc[:, 0]\n",
    "\n",
    "\n",
    "ensemble_pred = test_df['ensemble_sentiment']\n",
    "\n",
    "# Calculate metrics for the ensemble model\n",
    "mae = mean_absolute_error(y_true, ensemble_pred)\n",
    "rmse = mean_squared_error(y_true, ensemble_pred, squared=False)\n",
    "accuracy = accuracy_score(y_true, ensemble_pred)\n",
    "precision = precision_score(y_true, ensemble_pred, average='weighted')\n",
    "recall = recall_score(y_true, ensemble_pred, average='weighted')\n",
    "\n",
    "# Calculate specificity for the ensemble model\n",
    "conf_matrix = confusion_matrix(y_true, ensemble_pred)\n",
    "tn, fp, fn, tp = conf_matrix.ravel()\n",
    "specificity = tn / (tn + fp)\n",
    "\n",
    "# Calculate F1-score for the ensemble model\n",
    "f1 = f1_score(y_true, ensemble_pred, average='weighted')\n",
    "\n",
    "# Print the metrics for the ensemble model\n",
    "print(f'MAE: {mae}')\n",
    "print(f'RMSE: {rmse}')\n",
    "print(f'Accuracy: {accuracy}')\n",
    "print(f'Precision: {precision}')\n",
    "print(f'Recall: {recall}')\n",
    "print(f'Specificity: {specificity}')\n",
    "print(f'F1-score: {f1}')\n"
   ]
  },
  {
   "cell_type": "code",
   "execution_count": null,
   "metadata": {},
   "outputs": [],
   "source": []
  }
 ],
 "metadata": {
  "kaggle": {
   "accelerator": "nvidiaTeslaT4",
   "dataSources": [
    {
     "datasetId": 2078107,
     "sourceId": 3499094,
     "sourceType": "datasetVersion"
    }
   ],
   "dockerImageVersionId": 30192,
   "isGpuEnabled": true,
   "isInternetEnabled": true,
   "language": "python",
   "sourceType": "notebook"
  },
  "kernelspec": {
   "display_name": "Python 3 (ipykernel)",
   "language": "python",
   "name": "python3"
  },
  "language_info": {
   "codemirror_mode": {
    "name": "ipython",
    "version": 3
   },
   "file_extension": ".py",
   "mimetype": "text/x-python",
   "name": "python",
   "nbconvert_exporter": "python",
   "pygments_lexer": "ipython3",
   "version": "3.9.17"
  }
 },
 "nbformat": 4,
 "nbformat_minor": 4
}
